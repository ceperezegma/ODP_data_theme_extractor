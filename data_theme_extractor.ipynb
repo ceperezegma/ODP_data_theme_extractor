{
 "cells": [
  {
   "cell_type": "markdown",
   "metadata": {},
   "source": [
    "# Extraction of data themes from the EU vocabularies"
   ]
  },
  {
   "cell_type": "markdown",
   "metadata": {},
   "source": [
    "This notebook extracts the data themes.The data source is the XML file avialble in the [data themes classification  page](https://op.europa.eu/en/web/eu-vocabularies/dataset/-/resource?uri=http://publications.europa.eu/resource/dataset/data-theme).\n",
    "\n",
    "ASSUMPTIONS:\n",
    "- The XML file **data-theme.xml** must be available in the same directory as this notebook\n"
   ]
  },
  {
   "cell_type": "code",
   "execution_count": 11,
   "metadata": {},
   "outputs": [],
   "source": [
    "import xml.etree.ElementTree as ET\n",
    "import csv\n",
    "import pandas as pd"
   ]
  },
  {
   "cell_type": "markdown",
   "metadata": {},
   "source": [
    "## 1. Open the XML file: data-theme.xml"
   ]
  },
  {
   "cell_type": "code",
   "execution_count": 12,
   "metadata": {},
   "outputs": [],
   "source": [
    "def open_file(file_name): \n",
    "    \"\"\"\n",
    "    open and parse the xml file given by file_name and return the parsed file and the root.\n",
    "    \n",
    "    \"\"\"\n",
    "    tree = ET.parse(file_name)\n",
    "    root = tree.getroot()\n",
    "    return tree, root"
   ]
  },
  {
   "cell_type": "markdown",
   "metadata": {},
   "source": [
    "## 2. Extract records"
   ]
  },
  {
   "cell_type": "code",
   "execution_count": 13,
   "metadata": {},
   "outputs": [],
   "source": [
    "def check_deprecated(deprecated_tag):\n",
    "    \"\"\"\n",
    "    check whether a record is deprecated or not. It returns 1 --> deprecated or 0 --> not deprecated\n",
    "    \"\"\"\n",
    "    \n",
    "    if deprecated_tag == \"false\":\n",
    "        is_deprecated = 0\n",
    "    else:\n",
    "        is_deprecated = 1\n",
    "        \n",
    "    return is_deprecated        \n",
    "        "
   ]
  },
  {
   "cell_type": "code",
   "execution_count": 14,
   "metadata": {},
   "outputs": [],
   "source": [
    "def data_theme_extractor(child, target_tag):\n",
    "    \"\"\"\n",
    "    extracts the data themes code. it returns -1 of the extracted information doesn't match the target tag\n",
    "    \"\"\"\n",
    "    \n",
    "    if child.tag == target_tag:\n",
    "        info_extracted = child.text\n",
    "        return info_extracted\n",
    "    else:\n",
    "        return -1\n",
    "        "
   ]
  },
  {
   "cell_type": "code",
   "execution_count": 15,
   "metadata": {},
   "outputs": [],
   "source": [
    "def data_theme_name_extractor(child, target_tag):\n",
    "    \"\"\"\n",
    "     extracts the data theme name in english. it returns -1 of the extracted information doesn't match the target tag\n",
    "    \"\"\"\n",
    "    \n",
    "    if child.attrib[\"lg\"] == target_tag:\n",
    "        info_extracted = child.text\n",
    "        return info_extracted\n",
    "    else:\n",
    "        return -1    \n",
    "        "
   ]
  },
  {
   "cell_type": "code",
   "execution_count": 16,
   "metadata": {},
   "outputs": [],
   "source": [
    "def extract_info(root):\n",
    "    \"\"\"\n",
    "    extract the AUTHORITY-CODE and NAME attributed related to each non-deprecated record. It returns the extracted information as a string of dicts with one dict per record\n",
    "    \"\"\"\n",
    "\n",
    "    record_attrib = {}\n",
    "    data_themes = []\n",
    "    data_themes_info = {}\n",
    "\n",
    "    for record in root:   \n",
    "        is_deprecated = check_deprecated(record.attrib[\"deprecated\"])\n",
    "        if not is_deprecated: # if the record is not deprecated\n",
    "            for child in record: # records sub-levels\n",
    "                    info_extracted = data_theme_extractor(child, \"authority-code\") # extracts the data theme code                \n",
    "                    if  info_extracted != -1:\n",
    "                        data_themes_info[\"authority-code\"] = info_extracted                   \n",
    "\n",
    "                    if child.tag == \"label\": # to extract the name of the data theme in english\n",
    "                        for child2 in child:\n",
    "                            info_extracted =  data_theme_name_extractor(child2, \"eng\") # extracts the data theme name in english\n",
    "                            if  info_extracted != -1:\n",
    "                                data_themes_info[\"name\"] = info_extracted\n",
    "\n",
    "                                data_themes.append(data_themes_info)\n",
    "                                data_themes_info = {} # clean up the variable            \n",
    "    \n",
    "    return data_themes                    \n",
    "    \n",
    "    "
   ]
  },
  {
   "cell_type": "markdown",
   "metadata": {},
   "source": [
    "## 3. Save the extracted information into a csv file"
   ]
  },
  {
   "cell_type": "code",
   "execution_count": 17,
   "metadata": {},
   "outputs": [],
   "source": [
    "def save_to_csv(data_themes, filename): \n",
    "    \"\"\"\n",
    "    save the extracted information into a csv file\n",
    "    \"\"\"\n",
    "  \n",
    "    # specifies the fields for csv file \n",
    "    fields = [\"authority-code\", \"name\"]\n",
    "\n",
    "    # sorts by the authority-code column\n",
    "    data_themes_sorted = data_themes.sort_values(\"authority-code\")\n",
    "\n",
    "    # save as a csv file\n",
    "    data_themes_sorted.to_csv(filename, columns=fields, index=False)\n",
    "\n",
    "    return"
   ]
  },
  {
   "cell_type": "markdown",
   "metadata": {},
   "source": [
    "## 4. Main"
   ]
  },
  {
   "cell_type": "code",
   "execution_count": 18,
   "metadata": {},
   "outputs": [],
   "source": [
    "def main():\n",
    "    xml_file = \"data-theme.xml\"\n",
    "    output_filename = \"data_themes.csv\"\n",
    "    tree, root = open_file(xml_file)\n",
    "    data_themes = pd.DataFrame(extract_info(root), columns=[\"authority-code\", \"name\"])\n",
    "    save_to_csv(data_themes, output_filename)"
   ]
  },
  {
   "cell_type": "markdown",
   "metadata": {},
   "source": [
    "## 5. Execution"
   ]
  },
  {
   "cell_type": "code",
   "execution_count": 19,
   "metadata": {},
   "outputs": [],
   "source": [
    "if __name__ == \"__main__\": \n",
    "  \n",
    "    # calling main function \n",
    "    main() "
   ]
  },
  {
   "cell_type": "markdown",
   "metadata": {},
   "source": [
    "## LAB"
   ]
  },
  {
   "cell_type": "code",
   "execution_count": null,
   "metadata": {},
   "outputs": [],
   "source": []
  }
 ],
 "metadata": {
  "kernelspec": {
   "display_name": "Python 3",
   "language": "python",
   "name": "python3"
  },
  "language_info": {
   "codemirror_mode": {
    "name": "ipython",
    "version": 3
   },
   "file_extension": ".py",
   "mimetype": "text/x-python",
   "name": "python",
   "nbconvert_exporter": "python",
   "pygments_lexer": "ipython3",
   "version": "3.8.3"
  }
 },
 "nbformat": 4,
 "nbformat_minor": 4
}
